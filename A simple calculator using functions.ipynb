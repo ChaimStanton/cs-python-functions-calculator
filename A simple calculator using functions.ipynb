{
 "cells": [
  {
   "cell_type": "markdown",
   "metadata": {},
   "source": [
    "## A simple calculator using functions\n",
    "\n",
    "1) Read code and discuss - ask questions!\n",
    "\n",
    "2) Comment code\n",
    "\n",
    "3) Extend the calculator with 5 more functions\n"
   ]
  },
  {
   "cell_type": "code",
   "execution_count": 6,
   "metadata": {},
   "outputs": [
    {
     "name": "stdout",
     "output_type": "stream",
     "text": [
      "welcome to my calculator\n",
      "A)dd numbers\n",
      "S)ubtract numbers\n",
      "M)ultiply numbers\n",
      "D)ivide numbers\n",
      "E)xit\n",
      "choose your optione\n",
      "Thank you for using the calcualtor\n"
     ]
    }
   ],
   "source": [
    "def mainMenu():\n",
    "    \"\"\"A funtion for displaying the main menu\"\"\"\n",
    "    validChoices = [\"A\", \"S\", \"E\", \"M\", \"D\"]\n",
    "    valid = False\n",
    "    while not valid:\n",
    "        print(\"A)dd numbers\")\n",
    "        print(\"S)ubtract numbers\")\n",
    "        print(\"M)ultiply numbers\")\n",
    "        print(\"D)ivide numbers\")\n",
    "        print(\"E)xit\")\n",
    "        choice = input(\"choose your option\").upper()\n",
    "        if choice not in validChoices:\n",
    "            print(\"sorry that is not a valid menu choice \")\n",
    "        else:\n",
    "            valid= True\n",
    "            \n",
    "    return choice\n",
    "    \n",
    "\n",
    "def enterNumber():\n",
    "    \"\"\"A function with error catching to allow the user to enter a number\"\"\"\n",
    "    valid = False\n",
    "    while not valid:\n",
    "        try:\n",
    "            x=int(input(\"enter the first number\"))\n",
    "            valid=True\n",
    "        except ValueError:\n",
    "            print(\"That was not a valid number.. please try again\")\n",
    "    \n",
    "    return x\n",
    "\n",
    "def add(x,y):\n",
    "    \"\"\"A function to add two numbers\"\"\"\n",
    "    return x+y\n",
    "\n",
    "def subtract(x,y):\n",
    "    \"\"\"A function to allow the user to subtract two numbers\"\"\"\n",
    "    return x-y\n",
    "\n",
    "def multiply(x,y):\n",
    "    \"\"\"A function to allow the user to multiply two numbers\"\"\"\n",
    "    return x * y\n",
    "\n",
    "def divide(x,y):\n",
    "    \"\"\"A function that divides a number by annother number\"\"\"\n",
    "    return x/y\n",
    "\n",
    "#main program starts here\n",
    "print(\"welcome to my calculator\")\n",
    "again = \"y\"\n",
    "while again == \"y\":\n",
    "    \n",
    "    userChoice = mainMenu()\n",
    "    if userChoice == \"A\":\n",
    "        answer = add(enterNumber(), enterNumber())\n",
    "    elif userChoice == \"S\":\n",
    "        answer = subtract(enterNumber(), enterNumber())\n",
    "    elif userChoice == \"D\":\n",
    "        answer = divide(enterNumber(), enterNumber())\n",
    "    elif userChoice == \"M\":\n",
    "        answer = multiply(enterNumber(), enterNumber())\n",
    "    elif userChoice == \"E\":\n",
    "        again = 'n' \n",
    "        break\n",
    "    else:\n",
    "        print(\"error - we should never get here\")\n",
    "    print(\"the answer from your calcaulation is=\"+str(answer))\n",
    "    \n",
    "print(\"Thank you for using the calcualtor\")\n",
    "\n"
   ]
  },
  {
   "cell_type": "code",
   "execution_count": 7,
   "metadata": {},
   "outputs": [
    {
     "name": "stdout",
     "output_type": "stream",
     "text": [
      "A function that divides a number by annother number\n"
     ]
    }
   ],
   "source": [
    "print(divide.__doc__)"
   ]
  }
 ],
 "metadata": {
  "kernelspec": {
   "display_name": "Python 3",
   "language": "python",
   "name": "python3"
  },
  "language_info": {
   "codemirror_mode": {
    "name": "ipython",
    "version": 3
   },
   "file_extension": ".py",
   "mimetype": "text/x-python",
   "name": "python",
   "nbconvert_exporter": "python",
   "pygments_lexer": "ipython3",
   "version": "3.6.5"
  }
 },
 "nbformat": 4,
 "nbformat_minor": 2
}
